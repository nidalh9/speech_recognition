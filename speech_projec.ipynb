{
 "cells": [
  {
   "metadata": {
    "ExecuteTime": {
     "end_time": "2024-09-16T20:24:06.179844Z",
     "start_time": "2024-09-16T20:24:06.172417Z"
    }
   },
   "cell_type": "code",
   "source": "print(\"hello\")",
   "id": "e9818f859232d65c",
   "outputs": [
    {
     "name": "stdout",
     "output_type": "stream",
     "text": [
      "hello\n"
     ]
    }
   ],
   "execution_count": 1
  },
  {
   "metadata": {
    "ExecuteTime": {
     "end_time": "2024-09-16T20:24:17.105104Z",
     "start_time": "2024-09-16T20:24:07.302117Z"
    }
   },
   "cell_type": "code",
   "source": [
    "# @title Pip install comands\n",
    "!pip install librosa\n",
    "!pip install torch torchvision torchaudio\n",
    "!pip install torch\n",
    "!pip install jiwer\n",
    "!pip install wandb\n",
    "!pip install datasets\n",
    "!pip install kaggle"
   ],
   "id": "initial_id",
   "outputs": [
    {
     "name": "stdout",
     "output_type": "stream",
     "text": [
      "Looking in indexes: https://pypi.python.org/simple, https://pypi.apple.com/simple\r\n",
      "Requirement already satisfied: librosa in /Users/nidalhulaihel/opt/anaconda3/envs/speech_proj/lib/python3.9/site-packages (0.10.2.post1)\r\n",
      "Requirement already satisfied: audioread>=2.1.9 in /Users/nidalhulaihel/opt/anaconda3/envs/speech_proj/lib/python3.9/site-packages (from librosa) (3.0.1)\r\n",
      "Requirement already satisfied: numpy!=1.22.0,!=1.22.1,!=1.22.2,>=1.20.3 in /Users/nidalhulaihel/opt/anaconda3/envs/speech_proj/lib/python3.9/site-packages (from librosa) (2.0.2)\r\n",
      "Requirement already satisfied: scipy>=1.2.0 in /Users/nidalhulaihel/opt/anaconda3/envs/speech_proj/lib/python3.9/site-packages (from librosa) (1.13.1)\r\n",
      "Requirement already satisfied: scikit-learn>=0.20.0 in /Users/nidalhulaihel/opt/anaconda3/envs/speech_proj/lib/python3.9/site-packages (from librosa) (1.5.2)\r\n",
      "Requirement already satisfied: joblib>=0.14 in /Users/nidalhulaihel/opt/anaconda3/envs/speech_proj/lib/python3.9/site-packages (from librosa) (1.4.2)\r\n",
      "Requirement already satisfied: decorator>=4.3.0 in /Users/nidalhulaihel/opt/anaconda3/envs/speech_proj/lib/python3.9/site-packages (from librosa) (5.1.1)\r\n",
      "Requirement already satisfied: numba>=0.51.0 in /Users/nidalhulaihel/opt/anaconda3/envs/speech_proj/lib/python3.9/site-packages (from librosa) (0.60.0)\r\n",
      "Requirement already satisfied: soundfile>=0.12.1 in /Users/nidalhulaihel/opt/anaconda3/envs/speech_proj/lib/python3.9/site-packages (from librosa) (0.12.1)\r\n",
      "Requirement already satisfied: pooch>=1.1 in /Users/nidalhulaihel/opt/anaconda3/envs/speech_proj/lib/python3.9/site-packages (from librosa) (1.8.2)\r\n",
      "Requirement already satisfied: soxr>=0.3.2 in /Users/nidalhulaihel/opt/anaconda3/envs/speech_proj/lib/python3.9/site-packages (from librosa) (0.5.0.post1)\r\n",
      "Requirement already satisfied: typing-extensions>=4.1.1 in /Users/nidalhulaihel/opt/anaconda3/envs/speech_proj/lib/python3.9/site-packages (from librosa) (4.12.2)\r\n",
      "Requirement already satisfied: lazy-loader>=0.1 in /Users/nidalhulaihel/opt/anaconda3/envs/speech_proj/lib/python3.9/site-packages (from librosa) (0.4)\r\n",
      "Requirement already satisfied: msgpack>=1.0 in /Users/nidalhulaihel/opt/anaconda3/envs/speech_proj/lib/python3.9/site-packages (from librosa) (1.1.0)\r\n",
      "Requirement already satisfied: packaging in /Users/nidalhulaihel/opt/anaconda3/envs/speech_proj/lib/python3.9/site-packages (from lazy-loader>=0.1->librosa) (24.1)\r\n",
      "Requirement already satisfied: llvmlite<0.44,>=0.43.0dev0 in /Users/nidalhulaihel/opt/anaconda3/envs/speech_proj/lib/python3.9/site-packages (from numba>=0.51.0->librosa) (0.43.0)\r\n",
      "Requirement already satisfied: platformdirs>=2.5.0 in /Users/nidalhulaihel/opt/anaconda3/envs/speech_proj/lib/python3.9/site-packages (from pooch>=1.1->librosa) (4.3.3)\r\n",
      "Requirement already satisfied: requests>=2.19.0 in /Users/nidalhulaihel/opt/anaconda3/envs/speech_proj/lib/python3.9/site-packages (from pooch>=1.1->librosa) (2.32.3)\r\n",
      "Requirement already satisfied: threadpoolctl>=3.1.0 in /Users/nidalhulaihel/opt/anaconda3/envs/speech_proj/lib/python3.9/site-packages (from scikit-learn>=0.20.0->librosa) (3.5.0)\r\n",
      "Requirement already satisfied: cffi>=1.0 in /Users/nidalhulaihel/opt/anaconda3/envs/speech_proj/lib/python3.9/site-packages (from soundfile>=0.12.1->librosa) (1.17.1)\r\n",
      "Requirement already satisfied: pycparser in /Users/nidalhulaihel/opt/anaconda3/envs/speech_proj/lib/python3.9/site-packages (from cffi>=1.0->soundfile>=0.12.1->librosa) (2.22)\r\n",
      "Requirement already satisfied: charset-normalizer<4,>=2 in /Users/nidalhulaihel/opt/anaconda3/envs/speech_proj/lib/python3.9/site-packages (from requests>=2.19.0->pooch>=1.1->librosa) (3.3.2)\r\n",
      "Requirement already satisfied: idna<4,>=2.5 in /Users/nidalhulaihel/opt/anaconda3/envs/speech_proj/lib/python3.9/site-packages (from requests>=2.19.0->pooch>=1.1->librosa) (3.10)\r\n",
      "Requirement already satisfied: urllib3<3,>=1.21.1 in /Users/nidalhulaihel/opt/anaconda3/envs/speech_proj/lib/python3.9/site-packages (from requests>=2.19.0->pooch>=1.1->librosa) (2.2.3)\r\n",
      "Requirement already satisfied: certifi>=2017.4.17 in /Users/nidalhulaihel/opt/anaconda3/envs/speech_proj/lib/python3.9/site-packages (from requests>=2.19.0->pooch>=1.1->librosa) (2024.8.30)\r\n",
      "Looking in indexes: https://pypi.python.org/simple, https://pypi.apple.com/simple\r\n",
      "Requirement already satisfied: torch in /Users/nidalhulaihel/opt/anaconda3/envs/speech_proj/lib/python3.9/site-packages (2.2.2)\r\n",
      "Requirement already satisfied: torchvision in /Users/nidalhulaihel/opt/anaconda3/envs/speech_proj/lib/python3.9/site-packages (0.17.2)\r\n",
      "Requirement already satisfied: torchaudio in /Users/nidalhulaihel/opt/anaconda3/envs/speech_proj/lib/python3.9/site-packages (2.2.2)\r\n",
      "Requirement already satisfied: filelock in /Users/nidalhulaihel/opt/anaconda3/envs/speech_proj/lib/python3.9/site-packages (from torch) (3.16.0)\r\n",
      "Requirement already satisfied: typing-extensions>=4.8.0 in /Users/nidalhulaihel/opt/anaconda3/envs/speech_proj/lib/python3.9/site-packages (from torch) (4.12.2)\r\n",
      "Requirement already satisfied: sympy in /Users/nidalhulaihel/opt/anaconda3/envs/speech_proj/lib/python3.9/site-packages (from torch) (1.13.2)\r\n",
      "Requirement already satisfied: networkx in /Users/nidalhulaihel/opt/anaconda3/envs/speech_proj/lib/python3.9/site-packages (from torch) (3.2.1)\r\n",
      "Requirement already satisfied: jinja2 in /Users/nidalhulaihel/opt/anaconda3/envs/speech_proj/lib/python3.9/site-packages (from torch) (3.1.4)\r\n",
      "Requirement already satisfied: fsspec in /Users/nidalhulaihel/opt/anaconda3/envs/speech_proj/lib/python3.9/site-packages (from torch) (2024.6.1)\r\n",
      "Requirement already satisfied: numpy in /Users/nidalhulaihel/opt/anaconda3/envs/speech_proj/lib/python3.9/site-packages (from torchvision) (2.0.2)\r\n",
      "Requirement already satisfied: pillow!=8.3.*,>=5.3.0 in /Users/nidalhulaihel/opt/anaconda3/envs/speech_proj/lib/python3.9/site-packages (from torchvision) (10.4.0)\r\n",
      "Requirement already satisfied: MarkupSafe>=2.0 in /Users/nidalhulaihel/opt/anaconda3/envs/speech_proj/lib/python3.9/site-packages (from jinja2->torch) (2.1.5)\r\n",
      "Requirement already satisfied: mpmath<1.4,>=1.1.0 in /Users/nidalhulaihel/opt/anaconda3/envs/speech_proj/lib/python3.9/site-packages (from sympy->torch) (1.3.0)\r\n",
      "Looking in indexes: https://pypi.python.org/simple, https://pypi.apple.com/simple\r\n",
      "Requirement already satisfied: torch in /Users/nidalhulaihel/opt/anaconda3/envs/speech_proj/lib/python3.9/site-packages (2.2.2)\r\n",
      "Requirement already satisfied: filelock in /Users/nidalhulaihel/opt/anaconda3/envs/speech_proj/lib/python3.9/site-packages (from torch) (3.16.0)\r\n",
      "Requirement already satisfied: typing-extensions>=4.8.0 in /Users/nidalhulaihel/opt/anaconda3/envs/speech_proj/lib/python3.9/site-packages (from torch) (4.12.2)\r\n",
      "Requirement already satisfied: sympy in /Users/nidalhulaihel/opt/anaconda3/envs/speech_proj/lib/python3.9/site-packages (from torch) (1.13.2)\r\n",
      "Requirement already satisfied: networkx in /Users/nidalhulaihel/opt/anaconda3/envs/speech_proj/lib/python3.9/site-packages (from torch) (3.2.1)\r\n",
      "Requirement already satisfied: jinja2 in /Users/nidalhulaihel/opt/anaconda3/envs/speech_proj/lib/python3.9/site-packages (from torch) (3.1.4)\r\n",
      "Requirement already satisfied: fsspec in /Users/nidalhulaihel/opt/anaconda3/envs/speech_proj/lib/python3.9/site-packages (from torch) (2024.6.1)\r\n",
      "Requirement already satisfied: MarkupSafe>=2.0 in /Users/nidalhulaihel/opt/anaconda3/envs/speech_proj/lib/python3.9/site-packages (from jinja2->torch) (2.1.5)\r\n",
      "Requirement already satisfied: mpmath<1.4,>=1.1.0 in /Users/nidalhulaihel/opt/anaconda3/envs/speech_proj/lib/python3.9/site-packages (from sympy->torch) (1.3.0)\r\n",
      "Looking in indexes: https://pypi.python.org/simple, https://pypi.apple.com/simple\r\n",
      "Requirement already satisfied: jiwer in /Users/nidalhulaihel/opt/anaconda3/envs/speech_proj/lib/python3.9/site-packages (3.0.4)\r\n",
      "Requirement already satisfied: click<9.0.0,>=8.1.3 in /Users/nidalhulaihel/opt/anaconda3/envs/speech_proj/lib/python3.9/site-packages (from jiwer) (8.1.7)\r\n",
      "Requirement already satisfied: rapidfuzz<4,>=3 in /Users/nidalhulaihel/opt/anaconda3/envs/speech_proj/lib/python3.9/site-packages (from jiwer) (3.9.7)\r\n",
      "Looking in indexes: https://pypi.python.org/simple, https://pypi.apple.com/simple\r\n",
      "Requirement already satisfied: wandb in /Users/nidalhulaihel/opt/anaconda3/envs/speech_proj/lib/python3.9/site-packages (0.18.0)\r\n",
      "Requirement already satisfied: click!=8.0.0,>=7.1 in /Users/nidalhulaihel/opt/anaconda3/envs/speech_proj/lib/python3.9/site-packages (from wandb) (8.1.7)\r\n",
      "Requirement already satisfied: docker-pycreds>=0.4.0 in /Users/nidalhulaihel/opt/anaconda3/envs/speech_proj/lib/python3.9/site-packages (from wandb) (0.4.0)\r\n",
      "Requirement already satisfied: gitpython!=3.1.29,>=1.0.0 in /Users/nidalhulaihel/opt/anaconda3/envs/speech_proj/lib/python3.9/site-packages (from wandb) (3.1.43)\r\n",
      "Requirement already satisfied: platformdirs in /Users/nidalhulaihel/opt/anaconda3/envs/speech_proj/lib/python3.9/site-packages (from wandb) (4.3.3)\r\n",
      "Requirement already satisfied: protobuf!=4.21.0,!=5.28.0,<6,>=3.19.0 in /Users/nidalhulaihel/opt/anaconda3/envs/speech_proj/lib/python3.9/site-packages (from wandb) (5.28.1)\r\n",
      "Requirement already satisfied: psutil>=5.0.0 in /Users/nidalhulaihel/opt/anaconda3/envs/speech_proj/lib/python3.9/site-packages (from wandb) (6.0.0)\r\n",
      "Requirement already satisfied: pyyaml in /Users/nidalhulaihel/opt/anaconda3/envs/speech_proj/lib/python3.9/site-packages (from wandb) (6.0.2)\r\n",
      "Requirement already satisfied: requests<3,>=2.0.0 in /Users/nidalhulaihel/opt/anaconda3/envs/speech_proj/lib/python3.9/site-packages (from wandb) (2.32.3)\r\n",
      "Requirement already satisfied: sentry-sdk>=1.0.0 in /Users/nidalhulaihel/opt/anaconda3/envs/speech_proj/lib/python3.9/site-packages (from wandb) (2.14.0)\r\n",
      "Requirement already satisfied: setproctitle in /Users/nidalhulaihel/opt/anaconda3/envs/speech_proj/lib/python3.9/site-packages (from wandb) (1.3.3)\r\n",
      "Requirement already satisfied: setuptools in /Users/nidalhulaihel/opt/anaconda3/envs/speech_proj/lib/python3.9/site-packages (from wandb) (73.0.1)\r\n",
      "Requirement already satisfied: typing-extensions in /Users/nidalhulaihel/opt/anaconda3/envs/speech_proj/lib/python3.9/site-packages (from wandb) (4.12.2)\r\n",
      "Requirement already satisfied: six>=1.4.0 in /Users/nidalhulaihel/opt/anaconda3/envs/speech_proj/lib/python3.9/site-packages (from docker-pycreds>=0.4.0->wandb) (1.16.0)\r\n",
      "Requirement already satisfied: gitdb<5,>=4.0.1 in /Users/nidalhulaihel/opt/anaconda3/envs/speech_proj/lib/python3.9/site-packages (from gitpython!=3.1.29,>=1.0.0->wandb) (4.0.11)\r\n",
      "Requirement already satisfied: charset-normalizer<4,>=2 in /Users/nidalhulaihel/opt/anaconda3/envs/speech_proj/lib/python3.9/site-packages (from requests<3,>=2.0.0->wandb) (3.3.2)\r\n",
      "Requirement already satisfied: idna<4,>=2.5 in /Users/nidalhulaihel/opt/anaconda3/envs/speech_proj/lib/python3.9/site-packages (from requests<3,>=2.0.0->wandb) (3.10)\r\n",
      "Requirement already satisfied: urllib3<3,>=1.21.1 in /Users/nidalhulaihel/opt/anaconda3/envs/speech_proj/lib/python3.9/site-packages (from requests<3,>=2.0.0->wandb) (2.2.3)\r\n",
      "Requirement already satisfied: certifi>=2017.4.17 in /Users/nidalhulaihel/opt/anaconda3/envs/speech_proj/lib/python3.9/site-packages (from requests<3,>=2.0.0->wandb) (2024.8.30)\r\n",
      "Requirement already satisfied: smmap<6,>=3.0.1 in /Users/nidalhulaihel/opt/anaconda3/envs/speech_proj/lib/python3.9/site-packages (from gitdb<5,>=4.0.1->gitpython!=3.1.29,>=1.0.0->wandb) (5.0.1)\r\n",
      "Looking in indexes: https://pypi.python.org/simple, https://pypi.apple.com/simple\r\n",
      "Requirement already satisfied: datasets in /Users/nidalhulaihel/opt/anaconda3/envs/speech_proj/lib/python3.9/site-packages (3.0.0)\r\n",
      "Requirement already satisfied: filelock in /Users/nidalhulaihel/opt/anaconda3/envs/speech_proj/lib/python3.9/site-packages (from datasets) (3.16.0)\r\n",
      "Requirement already satisfied: numpy>=1.17 in /Users/nidalhulaihel/opt/anaconda3/envs/speech_proj/lib/python3.9/site-packages (from datasets) (2.0.2)\r\n",
      "Requirement already satisfied: pyarrow>=15.0.0 in /Users/nidalhulaihel/opt/anaconda3/envs/speech_proj/lib/python3.9/site-packages (from datasets) (17.0.0)\r\n",
      "Requirement already satisfied: dill<0.3.9,>=0.3.0 in /Users/nidalhulaihel/opt/anaconda3/envs/speech_proj/lib/python3.9/site-packages (from datasets) (0.3.8)\r\n",
      "Requirement already satisfied: pandas in /Users/nidalhulaihel/opt/anaconda3/envs/speech_proj/lib/python3.9/site-packages (from datasets) (2.2.2)\r\n",
      "Requirement already satisfied: requests>=2.32.2 in /Users/nidalhulaihel/opt/anaconda3/envs/speech_proj/lib/python3.9/site-packages (from datasets) (2.32.3)\r\n",
      "Requirement already satisfied: tqdm>=4.66.3 in /Users/nidalhulaihel/opt/anaconda3/envs/speech_proj/lib/python3.9/site-packages (from datasets) (4.66.5)\r\n",
      "Requirement already satisfied: xxhash in /Users/nidalhulaihel/opt/anaconda3/envs/speech_proj/lib/python3.9/site-packages (from datasets) (3.5.0)\r\n",
      "Requirement already satisfied: multiprocess in /Users/nidalhulaihel/opt/anaconda3/envs/speech_proj/lib/python3.9/site-packages (from datasets) (0.70.16)\r\n",
      "Requirement already satisfied: fsspec<=2024.6.1,>=2023.1.0 in /Users/nidalhulaihel/opt/anaconda3/envs/speech_proj/lib/python3.9/site-packages (from fsspec[http]<=2024.6.1,>=2023.1.0->datasets) (2024.6.1)\r\n",
      "Requirement already satisfied: aiohttp in /Users/nidalhulaihel/opt/anaconda3/envs/speech_proj/lib/python3.9/site-packages (from datasets) (3.10.5)\r\n",
      "Requirement already satisfied: huggingface-hub>=0.22.0 in /Users/nidalhulaihel/opt/anaconda3/envs/speech_proj/lib/python3.9/site-packages (from datasets) (0.24.7)\r\n",
      "Requirement already satisfied: packaging in /Users/nidalhulaihel/opt/anaconda3/envs/speech_proj/lib/python3.9/site-packages (from datasets) (24.1)\r\n",
      "Requirement already satisfied: pyyaml>=5.1 in /Users/nidalhulaihel/opt/anaconda3/envs/speech_proj/lib/python3.9/site-packages (from datasets) (6.0.2)\r\n",
      "Requirement already satisfied: aiohappyeyeballs>=2.3.0 in /Users/nidalhulaihel/opt/anaconda3/envs/speech_proj/lib/python3.9/site-packages (from aiohttp->datasets) (2.4.0)\r\n",
      "Requirement already satisfied: aiosignal>=1.1.2 in /Users/nidalhulaihel/opt/anaconda3/envs/speech_proj/lib/python3.9/site-packages (from aiohttp->datasets) (1.3.1)\r\n",
      "Requirement already satisfied: attrs>=17.3.0 in /Users/nidalhulaihel/opt/anaconda3/envs/speech_proj/lib/python3.9/site-packages (from aiohttp->datasets) (24.2.0)\r\n",
      "Requirement already satisfied: frozenlist>=1.1.1 in /Users/nidalhulaihel/opt/anaconda3/envs/speech_proj/lib/python3.9/site-packages (from aiohttp->datasets) (1.4.1)\r\n",
      "Requirement already satisfied: multidict<7.0,>=4.5 in /Users/nidalhulaihel/opt/anaconda3/envs/speech_proj/lib/python3.9/site-packages (from aiohttp->datasets) (6.1.0)\r\n",
      "Requirement already satisfied: yarl<2.0,>=1.0 in /Users/nidalhulaihel/opt/anaconda3/envs/speech_proj/lib/python3.9/site-packages (from aiohttp->datasets) (1.11.1)\r\n",
      "Requirement already satisfied: async-timeout<5.0,>=4.0 in /Users/nidalhulaihel/opt/anaconda3/envs/speech_proj/lib/python3.9/site-packages (from aiohttp->datasets) (4.0.3)\r\n",
      "Requirement already satisfied: typing-extensions>=3.7.4.3 in /Users/nidalhulaihel/opt/anaconda3/envs/speech_proj/lib/python3.9/site-packages (from huggingface-hub>=0.22.0->datasets) (4.12.2)\r\n",
      "Requirement already satisfied: charset-normalizer<4,>=2 in /Users/nidalhulaihel/opt/anaconda3/envs/speech_proj/lib/python3.9/site-packages (from requests>=2.32.2->datasets) (3.3.2)\r\n",
      "Requirement already satisfied: idna<4,>=2.5 in /Users/nidalhulaihel/opt/anaconda3/envs/speech_proj/lib/python3.9/site-packages (from requests>=2.32.2->datasets) (3.10)\r\n",
      "Requirement already satisfied: urllib3<3,>=1.21.1 in /Users/nidalhulaihel/opt/anaconda3/envs/speech_proj/lib/python3.9/site-packages (from requests>=2.32.2->datasets) (2.2.3)\r\n",
      "Requirement already satisfied: certifi>=2017.4.17 in /Users/nidalhulaihel/opt/anaconda3/envs/speech_proj/lib/python3.9/site-packages (from requests>=2.32.2->datasets) (2024.8.30)\r\n",
      "Requirement already satisfied: python-dateutil>=2.8.2 in /Users/nidalhulaihel/opt/anaconda3/envs/speech_proj/lib/python3.9/site-packages (from pandas->datasets) (2.9.0.post0)\r\n",
      "Requirement already satisfied: pytz>=2020.1 in /Users/nidalhulaihel/opt/anaconda3/envs/speech_proj/lib/python3.9/site-packages (from pandas->datasets) (2024.2)\r\n",
      "Requirement already satisfied: tzdata>=2022.7 in /Users/nidalhulaihel/opt/anaconda3/envs/speech_proj/lib/python3.9/site-packages (from pandas->datasets) (2024.1)\r\n",
      "Requirement already satisfied: six>=1.5 in /Users/nidalhulaihel/opt/anaconda3/envs/speech_proj/lib/python3.9/site-packages (from python-dateutil>=2.8.2->pandas->datasets) (1.16.0)\r\n",
      "Looking in indexes: https://pypi.python.org/simple, https://pypi.apple.com/simple\r\n",
      "Collecting kaggle\r\n",
      "  Downloading https://pypi.apple.com/packages/packages/66/e3/c775e2213bac0ac1f1fd601d1c915d13934c5944cbff153ede6584acab50/kaggle-1.6.17.tar.gz (82 kB)\r\n",
      "  Preparing metadata (setup.py) ... \u001B[?25ldone\r\n",
      "\u001B[?25hRequirement already satisfied: six>=1.10 in /Users/nidalhulaihel/opt/anaconda3/envs/speech_proj/lib/python3.9/site-packages (from kaggle) (1.16.0)\r\n",
      "Requirement already satisfied: certifi>=2023.7.22 in /Users/nidalhulaihel/opt/anaconda3/envs/speech_proj/lib/python3.9/site-packages (from kaggle) (2024.8.30)\r\n",
      "Requirement already satisfied: python-dateutil in /Users/nidalhulaihel/opt/anaconda3/envs/speech_proj/lib/python3.9/site-packages (from kaggle) (2.9.0.post0)\r\n",
      "Requirement already satisfied: requests in /Users/nidalhulaihel/opt/anaconda3/envs/speech_proj/lib/python3.9/site-packages (from kaggle) (2.32.3)\r\n",
      "Requirement already satisfied: tqdm in /Users/nidalhulaihel/opt/anaconda3/envs/speech_proj/lib/python3.9/site-packages (from kaggle) (4.66.5)\r\n",
      "Collecting python-slugify (from kaggle)\r\n",
      "  Downloading https://pypi.apple.com/packages/packages/a4/62/02da182e544a51a5c3ccf4b03ab79df279f9c60c5e82d5e8bec7ca26ac11/python_slugify-8.0.4-py2.py3-none-any.whl (10 kB)\r\n",
      "Requirement already satisfied: urllib3 in /Users/nidalhulaihel/opt/anaconda3/envs/speech_proj/lib/python3.9/site-packages (from kaggle) (2.2.3)\r\n",
      "Requirement already satisfied: bleach in /Users/nidalhulaihel/opt/anaconda3/envs/speech_proj/lib/python3.9/site-packages (from kaggle) (6.1.0)\r\n",
      "Requirement already satisfied: webencodings in /Users/nidalhulaihel/opt/anaconda3/envs/speech_proj/lib/python3.9/site-packages (from bleach->kaggle) (0.5.1)\r\n",
      "Collecting text-unidecode>=1.3 (from python-slugify->kaggle)\r\n",
      "  Downloading https://pypi.apple.com/packages/packages/a6/a5/c0b6468d3824fe3fde30dbb5e1f687b291608f9473681bbf7dabbf5a87d7/text_unidecode-1.3-py2.py3-none-any.whl (78 kB)\r\n",
      "Requirement already satisfied: charset-normalizer<4,>=2 in /Users/nidalhulaihel/opt/anaconda3/envs/speech_proj/lib/python3.9/site-packages (from requests->kaggle) (3.3.2)\r\n",
      "Requirement already satisfied: idna<4,>=2.5 in /Users/nidalhulaihel/opt/anaconda3/envs/speech_proj/lib/python3.9/site-packages (from requests->kaggle) (3.10)\r\n",
      "Building wheels for collected packages: kaggle\r\n",
      "  Building wheel for kaggle (setup.py) ... \u001B[?25ldone\r\n",
      "\u001B[?25h  Created wheel for kaggle: filename=kaggle-1.6.17-py3-none-any.whl size=105787 sha256=33faa3b54e4685361e9a4fdd3aa34542b17cb6fd527495164b3e6cade63d9d8b\r\n",
      "  Stored in directory: /Users/nidalhulaihel/Library/Caches/pip/wheels/41/a6/66/4da54ffa475d3c5249032689dd1d051776c852d39d40b901ee\r\n",
      "Successfully built kaggle\r\n",
      "Installing collected packages: text-unidecode, python-slugify, kaggle\r\n",
      "Successfully installed kaggle-1.6.17 python-slugify-8.0.4 text-unidecode-1.3\r\n"
     ]
    }
   ],
   "execution_count": 2
  },
  {
   "metadata": {
    "ExecuteTime": {
     "end_time": "2024-09-16T20:25:23.037339Z",
     "start_time": "2024-09-16T20:24:22.624942Z"
    }
   },
   "cell_type": "code",
   "source": [
    "!kaggle datasets download -d andradaolteanu/gtzan-dataset-music-genre-classification\n",
    "!unzip gtzan-dataset-music-genre-classification.zip"
   ],
   "id": "685f60f7cb78d052",
   "outputs": [
    {
     "name": "stdout",
     "output_type": "stream",
     "text": [
      "Dataset URL: https://www.kaggle.com/datasets/andradaolteanu/gtzan-dataset-music-genre-classification\r\n",
      "License(s): other\r\n",
      "Downloading gtzan-dataset-music-genre-classification.zip to /Users/nidalhulaihel/PycharmProjects/speech_recognition_proj\r\n",
      "100%|█████████████████████████████████████▉| 1.21G/1.21G [00:58<00:00, 23.0MB/s]\r\n",
      "100%|██████████████████████████████████████| 1.21G/1.21G [00:58<00:00, 22.2MB/s]\r\n"
     ]
    }
   ],
   "execution_count": 3
  },
  {
   "metadata": {
    "ExecuteTime": {
     "end_time": "2024-09-16T20:44:40.190669Z",
     "start_time": "2024-09-16T20:44:40.062410Z"
    }
   },
   "cell_type": "code",
   "source": [
    "import os\n",
    "import torchaudio\n",
    "import torch\n",
    "from torch.utils.data import DataLoader, Dataset\n",
    "\n",
    "# Custom dataset class\n",
    "class GTZANDataset(Dataset):\n",
    "    def __init__(self, root_dir, transform=None):\n",
    "        self.root_dir = root_dir\n",
    "        self.transform = transform\n",
    "        self.file_paths = []\n",
    "        self.labels = []\n",
    "        self.genres = os.listdir(root_dir)\n",
    "        \n",
    "        for idx, genre in enumerate(self.genres):\n",
    "            genre_dir = os.path.join(self.root_dir, genre)\n",
    "            for file_name in os.listdir(genre_dir):\n",
    "                file_path = os.path.join(genre_dir, file_name)\n",
    "                self.file_paths.append(file_path)\n",
    "                self.labels.append(idx)  # Use the genre index as the label\n",
    "\n",
    "    def __len__(self):\n",
    "        return len(self.file_paths)\n",
    "\n",
    "    def __getitem__(self, idx):\n",
    "        file_path = self.file_paths[idx]\n",
    "        waveform, sample_rate = torchaudio.load(file_path)\n",
    "        label = torch.tensor(self.labels[idx])\n",
    "\n",
    "        # Apply any transformation if provided\n",
    "        if self.transform:\n",
    "            waveform = self.transform(waveform)\n",
    "        \n",
    "        return waveform, label\n",
    "\n",
    "# Collate function for padding\n",
    "def collate_fn(batch):\n",
    "    waveforms = [item[0].squeeze(0) for item in batch] \n",
    "    labels = [item[1] for item in batch]\n",
    "    \n",
    "    waveforms = torch.nn.utils.rnn.pad_sequence(waveforms, batch_first=True)\n",
    "    labels = torch.tensor(labels)\n",
    "    \n",
    "    return waveforms, labels\n",
    "\n"
   ],
   "id": "710e9fea6dc426f1",
   "outputs": [
    {
     "name": "stdout",
     "output_type": "stream",
     "text": [
      "Waveforms shape: torch.Size([16, 661794]), Labels: tensor([5, 9, 2, 9, 9, 5, 0, 5, 4, 8, 5, 8, 0, 4, 8, 8])\n"
     ]
    }
   ],
   "execution_count": 12
  },
  {
   "metadata": {
    "ExecuteTime": {
     "end_time": "2024-09-16T20:47:50.577302Z",
     "start_time": "2024-09-16T20:47:50.480485Z"
    }
   },
   "cell_type": "code",
   "source": [
    "dataset = GTZANDataset(root_dir=\"data/genres_original/\")\n",
    "dataloader = DataLoader(dataset, batch_size=16, shuffle=True, collate_fn=collate_fn)\n",
    "\n",
    "# Testing the DataLoader\n",
    "for batch in dataloader:\n",
    "    waveforms, labels = batch\n",
    "    print(f\"Waveforms shape: {waveforms.shape}, Labels: {labels}\")\n",
    "    break"
   ],
   "id": "daa2f95812e29a24",
   "outputs": [
    {
     "name": "stdout",
     "output_type": "stream",
     "text": [
      "Waveforms shape: torch.Size([16, 675808]), Labels: tensor([7, 3, 9, 4, 6, 6, 7, 1, 3, 5, 5, 2, 8, 3, 9, 0])\n"
     ]
    }
   ],
   "execution_count": 14
  },
  {
   "metadata": {},
   "cell_type": "code",
   "source": "",
   "id": "6cd73c098d244137",
   "outputs": [],
   "execution_count": null
  }
 ],
 "metadata": {
  "kernelspec": {
   "display_name": "Python 3",
   "language": "python",
   "name": "python3"
  },
  "language_info": {
   "codemirror_mode": {
    "name": "ipython",
    "version": 2
   },
   "file_extension": ".py",
   "mimetype": "text/x-python",
   "name": "python",
   "nbconvert_exporter": "python",
   "pygments_lexer": "ipython2",
   "version": "2.7.6"
  }
 },
 "nbformat": 4,
 "nbformat_minor": 5
}
